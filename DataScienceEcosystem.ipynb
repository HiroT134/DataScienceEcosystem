{
 "cells": [
  {
   "cell_type": "markdown",
   "id": "38eb3d7b-687a-44d8-b22b-92fbe1296ca7",
   "metadata": {
    "tags": []
   },
   "source": [
    "# Data Science Tools and Ecosystem"
   ]
  },
  {
   "cell_type": "markdown",
   "id": "cb2f7223-01e4-4eb3-8ef7-608003fc0803",
   "metadata": {},
   "source": [
    "In this notebook, Data Science Tools and Ecosystem are summarized."
   ]
  },
  {
   "cell_type": "code",
   "execution_count": null,
   "id": "ab8cd43d-5069-491f-bba8-0ffc400cd7d6",
   "metadata": {
    "tags": []
   },
   "outputs": [],
   "source": [
    "**Objectives:**\n",
    "- Create markdown cells\n",
    "- Create ordered and unordered lists\n",
    "- Provide an example of evaluating arithmetic expressions\n",
    "- Add comments to cells where necessary"
   ]
  },
  {
   "cell_type": "markdown",
   "id": "3730884d-3ec5-486e-be6c-dcc743cebe62",
   "metadata": {
    "tags": []
   },
   "source": [
    "#### Some of the popular languages that Data Scientists use are:\n",
    "1. Python\n",
    "2. R\n",
    "3. Julia\n",
    "4. SQL\n",
    "5. GO\n",
    "6. Scala\n",
    "7. Ruby\n",
    "8. JavaScript"
   ]
  },
  {
   "cell_type": "markdown",
   "id": "9d3ddab5-e76f-4c66-a22e-9ce24a57850d",
   "metadata": {
    "tags": []
   },
   "source": [
    "#### Some of the commonly used libraries used by Data Scientists include:\n",
    "1. Pandas\n",
    "2. NumPy\n",
    "3. TensorFlow\n",
    "4. Matplotlib \n",
    "5. Seaborn \n",
    "6. PyTorch\n",
    "7. Apache Spark"
   ]
  },
  {
   "cell_type": "markdown",
   "id": "86df547b-8a3c-4d74-90e1-5b79ea757dc6",
   "metadata": {},
   "source": [
    "| Data Science Tools |\n",
    "| -------------|\n",
    "| Jupyter Notebooks |\n",
    "| R Studio  |\n",
    "| Anaconda |\n",
    "| Zeppelin |"
   ]
  },
  {
   "cell_type": "markdown",
   "id": "980ef92a-365c-4058-ba63-5d8a669a60b6",
   "metadata": {
    "tags": []
   },
   "source": [
    "### Below are a few examples of evaluating arithmetic expressions in Python"
   ]
  },
  {
   "cell_type": "code",
   "execution_count": 1,
   "id": "7a558383-2e6e-40d9-a87e-33dabd813994",
   "metadata": {
    "tags": []
   },
   "outputs": [
    {
     "name": "stdout",
     "output_type": "stream",
     "text": [
      "17\n"
     ]
    }
   ],
   "source": [
    "#This a simple arithmetic expression to mutiply then add integers\n",
    "\n",
    "x = (3*4)+5\n",
    "print(x)"
   ]
  },
  {
   "cell_type": "code",
   "execution_count": 16,
   "id": "133dd287-1f63-49b6-b20a-62cc98ac049b",
   "metadata": {
    "tags": []
   },
   "outputs": [
    {
     "name": "stdout",
     "output_type": "stream",
     "text": [
      "3.33\n"
     ]
    }
   ],
   "source": [
    "#This will convert 200 minutes to hours by diving by 60\n",
    "x = 200/60\n",
    "print(round(x,2))"
   ]
  },
  {
   "cell_type": "markdown",
   "id": "0acc707f-d7ea-47ef-8d58-1b829c972978",
   "metadata": {},
   "source": [
    "## Author\n",
    "Hiroki Tamiya"
   ]
  },
  {
   "cell_type": "code",
   "execution_count": null,
   "id": "5d889ed5-1237-4a23-962b-977700c80474",
   "metadata": {},
   "outputs": [],
   "source": []
  }
 ],
 "metadata": {
  "kernelspec": {
   "display_name": "Python",
   "language": "python",
   "name": "conda-env-python-py"
  },
  "language_info": {
   "codemirror_mode": {
    "name": "ipython",
    "version": 3
   },
   "file_extension": ".py",
   "mimetype": "text/x-python",
   "name": "python",
   "nbconvert_exporter": "python",
   "pygments_lexer": "ipython3",
   "version": "3.7.12"
  }
 },
 "nbformat": 4,
 "nbformat_minor": 5
}
