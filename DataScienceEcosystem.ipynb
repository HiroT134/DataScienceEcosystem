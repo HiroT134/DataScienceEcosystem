{
 "cells": [
  {
   "cell_type": "markdown",
   "id": "38eb3d7b-687a-44d8-b22b-92fbe1296ca7",
   "metadata": {
    "tags": []
   },
   "source": [
    "# Data Science Tools and Ecosystem"
   ]
  },
  {
   "cell_type": "markdown",
   "id": "cb2f7223-01e4-4eb3-8ef7-608003fc0803",
   "metadata": {},
   "source": [
    "In this notebook, Data Science Tools and Ecosystem are summarized."
   ]
  },
  {
   "cell_type": "markdown",
   "id": "9829243a-257f-448a-97e6-9dd7ed5a8a55",
   "metadata": {
    "tags": []
   },
   "source": [
    "**Objectives:**\n",
    "- Python\n",
    "- R\n",
    "- SQL"
   ]
  },
  {
   "cell_type": "markdown",
   "id": "b21e5e8e-4017-40a7-98c6-6e5c8fca260b",
   "metadata": {
    "tags": []
   },
   "source": [
    "#### Some of the popular languages that Data Scientists use are:\n",
    "1. Python\n",
    "2. R\n",
    "3. Julia\n",
    "4. SQL\n",
    "5. GO"
   ]
  },
  {
   "cell_type": "markdown",
   "id": "b4107122-c393-403c-9231-136c5f4351f5",
   "metadata": {
    "tags": []
   },
   "source": [
    "#### Some of the commonly used libraries used by Data Scientists include:\n",
    "1. Pandas\n",
    "2. NumPy\n",
    "3. TensorFlow\n",
    "4. Matplotlib \n",
    "5. SciPy "
   ]
  },
  {
   "cell_type": "markdown",
   "id": "c4331af2-c358-4c45-948a-b861f2b44e0d",
   "metadata": {},
   "source": [
    "| Data Science Tools |\n",
    "| -------------|\n",
    "| Jupyter Notebooks |\n",
    "| R Studio  |\n",
    "| TensorFlow |"
   ]
  },
  {
   "cell_type": "markdown",
   "id": "980ef92a-365c-4058-ba63-5d8a669a60b6",
   "metadata": {
    "tags": []
   },
   "source": [
    "### Below are a few examples of evaluating arithmetic expressions in Python"
   ]
  },
  {
   "cell_type": "code",
   "execution_count": 34,
   "id": "7a558383-2e6e-40d9-a87e-33dabd813994",
   "metadata": {
    "tags": []
   },
   "outputs": [
    {
     "name": "stdout",
     "output_type": "stream",
     "text": [
      "17\n"
     ]
    }
   ],
   "source": [
    "#This a simple arithmetic expression to mutiply then add integers\n",
    "\n",
    "x = (3*4)+5\n",
    "print(x)"
   ]
  },
  {
   "cell_type": "code",
   "execution_count": 35,
   "id": "133dd287-1f63-49b6-b20a-62cc98ac049b",
   "metadata": {
    "tags": []
   },
   "outputs": [
    {
     "name": "stdout",
     "output_type": "stream",
     "text": [
      "3\n"
     ]
    }
   ],
   "source": [
    "#This will convert 200 minutes to hours by diving by 60\n",
    "x = 200/60\n",
    "print(round(x))"
   ]
  },
  {
   "cell_type": "markdown",
   "id": "0acc707f-d7ea-47ef-8d58-1b829c972978",
   "metadata": {},
   "source": [
    "## Author\n",
    "Hiroki Tamiya"
   ]
  },
  {
   "cell_type": "code",
   "execution_count": null,
   "id": "5d889ed5-1237-4a23-962b-977700c80474",
   "metadata": {},
   "outputs": [],
   "source": []
  }
 ],
 "metadata": {
  "kernelspec": {
   "display_name": "Python",
   "language": "python",
   "name": "conda-env-python-py"
  },
  "language_info": {
   "codemirror_mode": {
    "name": "ipython",
    "version": 3
   },
   "file_extension": ".py",
   "mimetype": "text/x-python",
   "name": "python",
   "nbconvert_exporter": "python",
   "pygments_lexer": "ipython3",
   "version": "3.7.12"
  }
 },
 "nbformat": 4,
 "nbformat_minor": 5
}
